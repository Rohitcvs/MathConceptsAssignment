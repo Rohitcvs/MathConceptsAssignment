{
 "cells": [
  {
   "cell_type": "markdown",
   "id": "f98c48ba-9f2c-4157-b651-2a197a4c77d9",
   "metadata": {},
   "source": [
    "# Module A Assignment: Base-N, Floating Points, and Round-off Errors\n",
    "\n",
    "## Introduction\n",
    "This notebook demonstrates concepts such as Base-N conversions, FLoating Point Arithmetic, and Round-off Errors with Python Examples and Explanations"
   ]
  },
  {
   "cell_type": "markdown",
   "id": "93b7f03f-8f42-406a-9fc2-f3475e85b5a7",
   "metadata": {},
   "source": [
    "### Base-N and Binary\n",
    "We can represent numbers in many numeral systems by using Base-N conversion. For instance\n",
    "- Decimal(Base 10)\n",
    "- Binary(Base 2)\n",
    "- Hexadecimal(Base 16)\n",
    "\n",
    "The Python Implementation for converting between Binary and Decimal is shown below"
   ]
  },
  {
   "cell_type": "code",
   "execution_count": 4,
   "id": "f27fe3d0-5810-45c7-a9ae-97a850a91724",
   "metadata": {},
   "outputs": [
    {
     "name": "stdout",
     "output_type": "stream",
     "text": [
      "Decimal 42 to Binary: 101010\n",
      "Binary 101010 to Decimal: 42\n"
     ]
    }
   ],
   "source": [
    "# Decimal to Binary Conversion\n",
    "def decimal_to_binary(n):\n",
    "    return bin(n)[2:]  # Convert to binary and remove \"0b\" prefix\n",
    "\n",
    "# Binary to Decimal Conversion\n",
    "def binary_to_decimal(binary_str):\n",
    "    return int(binary_str, 2)  # Interpret the string as a base-2 number\n",
    "\n",
    "# Example Usage\n",
    "decimal_number = 42\n",
    "binary_representation = decimal_to_binary(decimal_number)\n",
    "print(f\"Decimal {decimal_number} to Binary: {binary_representation}\")\n",
    "\n",
    "binary_number = \"101010\"\n",
    "decimal_representation = binary_to_decimal(binary_number)\n",
    "print(f\"Binary {binary_number} to Decimal: {decimal_representation}\")"
   ]
  },
  {
   "cell_type": "markdown",
   "id": "8c65402a-bf62-49ad-b797-a35eb9b1f321",
   "metadata": {},
   "source": [
    "### Floating Point Numbers\n",
    "In computers, real numbers are represented by floating point numbers. There may be minor errors\n",
    "in their representation because they are stored using a limited amount of bits. For instance,\n",
    "accuracy occurs when integers like 0.1 are not precisely represented in binary."
   ]
  },
  {
   "cell_type": "code",
   "execution_count": 8,
   "id": "ef0ca9db-e24d-48e9-86fa-d493a3a7eae3",
   "metadata": {},
   "outputs": [
    {
     "name": "stdout",
     "output_type": "stream",
     "text": [
      "0.1 + 0.2 = 0.30000000000000004\n",
      "Rounded Result: 0.3\n"
     ]
    }
   ],
   "source": [
    "# Floating-point precision issue\n",
    "a = 0.1\n",
    "b = 0.2\n",
    "result = a + b\n",
    "print(f\"0.1 + 0.2 = {result}\")  # Expected 0.3 but gives 0.30000000000000004\n",
    "\n",
    "# Correcting using `round`\n",
    "corrected_result = round(result, 1)\n",
    "print(f\"Rounded Result: {corrected_result}\")"
   ]
  },
  {
   "cell_type": "markdown",
   "id": "fe10ffc2-df3f-4ef5-850b-73a298893dbb",
   "metadata": {},
   "source": [
    "### Round-off errors\n",
    "Calculations become inaccurate due to round-off errors, which happen when floating-point numbers\n",
    "are unable to accurately represent a value."
   ]
  },
  {
   "cell_type": "code",
   "execution_count": 9,
   "id": "1a0c2069-0b14-467d-a011-7b9526f4020d",
   "metadata": {},
   "outputs": [
    {
     "name": "stdout",
     "output_type": "stream",
     "text": [
      "Sum of values: 1.0\n",
      "Is the total close to 1.0? True\n"
     ]
    }
   ],
   "source": [
    "# Example of round-off errors\n",
    "values = [0.1, 0.1, 0.1, 0.1, 0.1, 0.1, 0.1, 0.1, 0.1, 0.1]\n",
    "total = sum(values)  # Should be exactly 1.0\n",
    "print(f\"Sum of values: {total}\")  # Output: 0.9999999999999999 (not 1.0)\n",
    "\n",
    "# Correcting using `math.isclose`\n",
    "import math\n",
    "expected_total = 1.0\n",
    "print(f\"Is the total close to 1.0? {math.isclose(total, expected_total)}\")"
   ]
  },
  {
   "cell_type": "code",
   "execution_count": null,
   "id": "e53d6bcb-882f-4b05-b57c-3c96f93382e2",
   "metadata": {},
   "outputs": [],
   "source": []
  }
 ],
 "metadata": {
  "kernelspec": {
   "display_name": "Python 3 (ipykernel)",
   "language": "python",
   "name": "python3"
  },
  "language_info": {
   "codemirror_mode": {
    "name": "ipython",
    "version": 3
   },
   "file_extension": ".py",
   "mimetype": "text/x-python",
   "name": "python",
   "nbconvert_exporter": "python",
   "pygments_lexer": "ipython3",
   "version": "3.12.4"
  }
 },
 "nbformat": 4,
 "nbformat_minor": 5
}
